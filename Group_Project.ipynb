{
  "nbformat": 4,
  "nbformat_minor": 0,
  "metadata": {
    "colab": {
      "name": "Group Project.ipynb",
      "provenance": [],
      "authorship_tag": "ABX9TyPuVl7XWpndR+D2Q5YKX78l",
      "include_colab_link": true
    },
    "kernelspec": {
      "name": "python3",
      "display_name": "Python 3"
    }
  },
  "cells": [
    {
      "cell_type": "markdown",
      "metadata": {
        "id": "view-in-github",
        "colab_type": "text"
      },
      "source": [
        "<a href=\"https://colab.research.google.com/github/Marcos-Almanzar/DiseasesofHeart/blob/master/Group_Project.ipynb\" target=\"_parent\"><img src=\"https://colab.research.google.com/assets/colab-badge.svg\" alt=\"Open In Colab\"/></a>"
      ]
    },
    {
      "cell_type": "code",
      "metadata": {
        "id": "N2w4rXcDzeir",
        "colab_type": "code",
        "colab": {
          "base_uri": "https://localhost:8080/",
          "height": 413
        },
        "outputId": "761df775-0805-4c44-c93a-0a05bda7cc14"
      },
      "source": [
        "import pandas as pd\n",
        "import numpy as np\n",
        "import matplotlib.pyplot as plt\n",
        "import seaborn as sns\n",
        "missing_values=[\".\"]\n",
        "dfcsv = df = pd.read_csv('https://raw.githubusercontent.com/Marcos-Almanzar/DiseasesofHeart/master/New_York_City_Leading_Causes_of_Death.csv',na_values = missing_values)\n",
        "dfheart = df[(df['Leading Cause'] == 'Diseases of Heart (I00-I09, I11, I13, I20-I51)')]\n",
        "dfheart = dfheart[['Leading Cause', 'Year', 'Sex', 'Deaths']]\n",
        "dfheart"
      ],
      "execution_count": 27,
      "outputs": [
        {
          "output_type": "execute_result",
          "data": {
            "text/html": [
              "<div>\n",
              "<style scoped>\n",
              "    .dataframe tbody tr th:only-of-type {\n",
              "        vertical-align: middle;\n",
              "    }\n",
              "\n",
              "    .dataframe tbody tr th {\n",
              "        vertical-align: top;\n",
              "    }\n",
              "\n",
              "    .dataframe thead th {\n",
              "        text-align: right;\n",
              "    }\n",
              "</style>\n",
              "<table border=\"1\" class=\"dataframe\">\n",
              "  <thead>\n",
              "    <tr style=\"text-align: right;\">\n",
              "      <th></th>\n",
              "      <th>Leading Cause</th>\n",
              "      <th>Year</th>\n",
              "      <th>Sex</th>\n",
              "      <th>Deaths</th>\n",
              "    </tr>\n",
              "  </thead>\n",
              "  <tbody>\n",
              "    <tr>\n",
              "      <th>0</th>\n",
              "      <td>Diseases of Heart (I00-I09, I11, I13, I20-I51)</td>\n",
              "      <td>2007</td>\n",
              "      <td>F</td>\n",
              "      <td>2722.0</td>\n",
              "    </tr>\n",
              "    <tr>\n",
              "      <th>14</th>\n",
              "      <td>Diseases of Heart (I00-I09, I11, I13, I20-I51)</td>\n",
              "      <td>2007</td>\n",
              "      <td>F</td>\n",
              "      <td>428.0</td>\n",
              "    </tr>\n",
              "    <tr>\n",
              "      <th>34</th>\n",
              "      <td>Diseases of Heart (I00-I09, I11, I13, I20-I51)</td>\n",
              "      <td>2007</td>\n",
              "      <td>F</td>\n",
              "      <td>1418.0</td>\n",
              "    </tr>\n",
              "    <tr>\n",
              "      <th>36</th>\n",
              "      <td>Diseases of Heart (I00-I09, I11, I13, I20-I51)</td>\n",
              "      <td>2007</td>\n",
              "      <td>F</td>\n",
              "      <td>43.0</td>\n",
              "    </tr>\n",
              "    <tr>\n",
              "      <th>48</th>\n",
              "      <td>Diseases of Heart (I00-I09, I11, I13, I20-I51)</td>\n",
              "      <td>2007</td>\n",
              "      <td>F</td>\n",
              "      <td>7050.0</td>\n",
              "    </tr>\n",
              "    <tr>\n",
              "      <th>...</th>\n",
              "      <td>...</td>\n",
              "      <td>...</td>\n",
              "      <td>...</td>\n",
              "      <td>...</td>\n",
              "    </tr>\n",
              "    <tr>\n",
              "      <th>1027</th>\n",
              "      <td>Diseases of Heart (I00-I09, I11, I13, I20-I51)</td>\n",
              "      <td>2014</td>\n",
              "      <td>M</td>\n",
              "      <td>63.0</td>\n",
              "    </tr>\n",
              "    <tr>\n",
              "      <th>1038</th>\n",
              "      <td>Diseases of Heart (I00-I09, I11, I13, I20-I51)</td>\n",
              "      <td>2014</td>\n",
              "      <td>M</td>\n",
              "      <td>115.0</td>\n",
              "    </tr>\n",
              "    <tr>\n",
              "      <th>1065</th>\n",
              "      <td>Diseases of Heart (I00-I09, I11, I13, I20-I51)</td>\n",
              "      <td>2014</td>\n",
              "      <td>M</td>\n",
              "      <td>3990.0</td>\n",
              "    </tr>\n",
              "    <tr>\n",
              "      <th>1066</th>\n",
              "      <td>Diseases of Heart (I00-I09, I11, I13, I20-I51)</td>\n",
              "      <td>2014</td>\n",
              "      <td>M</td>\n",
              "      <td>1281.0</td>\n",
              "    </tr>\n",
              "    <tr>\n",
              "      <th>1068</th>\n",
              "      <td>Diseases of Heart (I00-I09, I11, I13, I20-I51)</td>\n",
              "      <td>2014</td>\n",
              "      <td>M</td>\n",
              "      <td>1958.0</td>\n",
              "    </tr>\n",
              "  </tbody>\n",
              "</table>\n",
              "<p>96 rows × 4 columns</p>\n",
              "</div>"
            ],
            "text/plain": [
              "                                       Leading Cause  Year Sex  Deaths\n",
              "0     Diseases of Heart (I00-I09, I11, I13, I20-I51)  2007   F  2722.0\n",
              "14    Diseases of Heart (I00-I09, I11, I13, I20-I51)  2007   F   428.0\n",
              "34    Diseases of Heart (I00-I09, I11, I13, I20-I51)  2007   F  1418.0\n",
              "36    Diseases of Heart (I00-I09, I11, I13, I20-I51)  2007   F    43.0\n",
              "48    Diseases of Heart (I00-I09, I11, I13, I20-I51)  2007   F  7050.0\n",
              "...                                              ...   ...  ..     ...\n",
              "1027  Diseases of Heart (I00-I09, I11, I13, I20-I51)  2014   M    63.0\n",
              "1038  Diseases of Heart (I00-I09, I11, I13, I20-I51)  2014   M   115.0\n",
              "1065  Diseases of Heart (I00-I09, I11, I13, I20-I51)  2014   M  3990.0\n",
              "1066  Diseases of Heart (I00-I09, I11, I13, I20-I51)  2014   M  1281.0\n",
              "1068  Diseases of Heart (I00-I09, I11, I13, I20-I51)  2014   M  1958.0\n",
              "\n",
              "[96 rows x 4 columns]"
            ]
          },
          "metadata": {
            "tags": []
          },
          "execution_count": 27
        }
      ]
    }
  ]
}