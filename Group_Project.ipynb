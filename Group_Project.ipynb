{
  "nbformat": 4,
  "nbformat_minor": 0,
  "metadata": {
    "colab": {
      "name": "Group Project.ipynb",
      "provenance": [],
      "authorship_tag": "ABX9TyP2DT/4M4yYtnNoFcbUnJzz",
      "include_colab_link": true
    },
    "kernelspec": {
      "name": "python3",
      "display_name": "Python 3"
    }
  },
  "cells": [
    {
      "cell_type": "markdown",
      "metadata": {
        "id": "view-in-github",
        "colab_type": "text"
      },
      "source": [
        "<a href=\"https://colab.research.google.com/github/Marcos-Almanzar/DiseasesofHeart/blob/master/Group_Project.ipynb\" target=\"_parent\"><img src=\"https://colab.research.google.com/assets/colab-badge.svg\" alt=\"Open In Colab\"/></a>"
      ]
    },
    {
      "cell_type": "code",
      "metadata": {
        "id": "N2w4rXcDzeir",
        "colab_type": "code",
        "colab": {
          "base_uri": "https://localhost:8080/",
          "height": 327
        },
        "outputId": "d8e66cc1-26d3-48f5-b23e-ef4a243975b3"
      },
      "source": [
        "import pandas as pd\n",
        "import numpy as np\n",
        "import matplotlib.pyplot as plt\n",
        "import seaborn as sns\n",
        "missing_values=[\".\"]\n",
        "dfcsv = df = pd.read_csv('https://raw.githubusercontent.com/Marcos-Almanzar/DiseasesofHeart/master/New_York_City_Leading_Causes_of_Death.csv',na_values = missing_values)\n",
        "dfheart = df[(df['Leading Cause'] == 'Diseases of Heart (I00-I09, I11, I13, I20-I51)')]\n",
        "dfheart = dfheart[['Leading Cause', 'Year', 'Sex', 'Deaths']]\n",
        "dfheartgrp = dfheart.groupby(['Year','Sex'])['Deaths'].sum()\n",
        "dfheartgrp"
      ],
      "execution_count": 28,
      "outputs": [
        {
          "output_type": "execute_result",
          "data": {
            "text/plain": [
              "Year  Sex\n",
              "2007  F      11743.0\n",
              "      M       9698.0\n",
              "2008  F      11605.0\n",
              "      M       9587.0\n",
              "2009  F      10780.0\n",
              "      M       9304.0\n",
              "2010  F       9463.0\n",
              "      M       8464.0\n",
              "2011  F       9083.0\n",
              "      M       7817.0\n",
              "2012  F       8777.0\n",
              "      M       7954.0\n",
              "2013  F       8745.0\n",
              "      M       8014.0\n",
              "2014  F       8556.0\n",
              "      M       7961.0\n",
              "Name: Deaths, dtype: float64"
            ]
          },
          "metadata": {
            "tags": []
          },
          "execution_count": 28
        }
      ]
    }
  ]
}